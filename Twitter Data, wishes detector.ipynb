{
 "cells": [
  {
   "cell_type": "markdown",
   "metadata": {},
   "source": [
    "# Import Modules and Twitter dataset from API"
   ]
  },
  {
   "cell_type": "code",
   "execution_count": 19,
   "metadata": {
    "collapsed": false
   },
   "outputs": [],
   "source": [
    "import DAL\n",
    "import re\n",
    "wishes_labelled = DAL.create(\"wishes-labelled\")\n",
    "wishes_list = wishes_labelled.subsets()\n",
    "\n"
   ]
  },
  {
   "cell_type": "markdown",
   "metadata": {},
   "source": [
    "# I randomly split the whole data set into train and test data set"
   ]
  },
  {
   "cell_type": "code",
   "execution_count": 20,
   "metadata": {
    "collapsed": false
   },
   "outputs": [],
   "source": [
    "\n",
    "import random as rnd\n",
    "n = len(wishes_list)\n",
    "nweek = n/7\n",
    "b = n/nweek\n",
    "nn = 0\n",
    "ntrain = []\n",
    "for i in range(n):\n",
    "    i = i+1 \n",
    "    if i%b == 0:\n",
    "        ntrain.extend(rnd.sample(range(nn*b,i), 1))\n",
    "        nn += 1\n",
    "\n",
    "ntest = list(set(range(n))-set(ntrain))\n",
    "\n",
    "train_wishes = [wishes_list[i] for i in ntrain]\n",
    "test_wishes = [wishes_list[i] for i in ntest]\n",
    "\n"
   ]
  },
  {
   "cell_type": "markdown",
   "metadata": {},
   "source": [
    "# And extract the features from train data set as a dictionary"
   ]
  },
  {
   "cell_type": "code",
   "execution_count": 28,
   "metadata": {
    "collapsed": false
   },
   "outputs": [
    {
     "name": "stdout",
     "output_type": "stream",
     "text": [
      "2106\n",
      "10000\n"
     ]
    },
    {
     "name": "stderr",
     "output_type": "stream",
     "text": [
      "Exception RuntimeError: 'generator ignored GeneratorExit' in <generator object iter at 0x327a2d0> ignored\n"
     ]
    }
   ],
   "source": [
    "import DAL\n",
    "import re\n",
    "wishes_labelled  = DAL.create(\"wishes-labelled\")\n",
    "temp_dict = {}\n",
    "j = 0 \n",
    "\n",
    "for i in range(len(train_wishes)):\n",
    "    text = \"\"\n",
    "    ntweet = 0\n",
    "    \n",
    "    for tweet in wishes_labelled.iter(train_wishes[i]): \n",
    "        if tweet.has_key('text'):\n",
    "            lower_text = tweet['text'].lower()\n",
    "            text += lower_text\n",
    "            ntweet += 1 \n",
    "\n",
    "\n",
    "        else:\n",
    "            break\n",
    "            \n",
    "        if ntweet >= 10000:\n",
    "\n",
    "            break   \n",
    "            \n",
    "    text = re.sub(r'@[a-zA-Z0-9_]+', \"\", text) #removes the name of poster and the name after @ \n",
    "    text = re.sub(r'[^\\x00-\\x7F]', \"\", text) #removes consecutive non-ASCII characters\n",
    "    text = re.sub(r'&[a-zA-Z0-9_]+', \"\", text)#removes puntuation with digits and words\n",
    "    text = re.sub(r'\\W', \" \", text) #removes anything which is not alphanumeric\n",
    "    text = re.sub(r'[0-9]', \"\", text) #removes #s\n",
    "    text = re.sub(r\"\\s+\", \" \", text) #removing white space\n",
    "    text = text.split(None)\n",
    "    \n",
    "    for word in text:\n",
    "        if len(word) > 1:\n",
    "            if temp_dict.has_key(word):\n",
    "                temp_dict[word] = temp_dict[word]+1\n",
    "            else:\n",
    "                temp_dict.setdefault(word, 1)\n",
    "\n",
    "mydict = []\n",
    "for words in temp_dict.keys():\n",
    "    if temp_dict[words] > 25:\n",
    "        mydict.append(words)\n",
    "\n"
   ]
  },
  {
   "cell_type": "code",
   "execution_count": 30,
   "metadata": {
    "collapsed": false
   },
   "outputs": [
    {
     "name": "stdout",
     "output_type": "stream",
     "text": [
      "the total words in the dictionary I build would be 570\n"
     ]
    }
   ],
   "source": [
    "print \"the total words in the dictionary I build would be\", len(mydict)"
   ]
  },
  {
   "cell_type": "markdown",
   "metadata": {},
   "source": [
    "#The feature vector in this case is a binary vector of {0, 1} with the same length of the dictionary, if the tweet has the word in the dictionary. Then the corresponding position of that word in the feature vector would be 1, otherwise the entries in the feature vector are all 0. The way I build the dictionary is randonmly choosing a day from everyweek in the data set given by, which would ensure the completeness of the dictionary. And I let other day of tweets in the data set become \"test data\". I would only go througn stochastic gradient descent for the \"test data\". "
   ]
  },
  {
   "cell_type": "markdown",
   "metadata": {},
   "source": [
    "# Then I come up with the function for stochastic gradient decent with different learning rate"
   ]
  },
  {
   "cell_type": "code",
   "execution_count": null,
   "metadata": {
    "collapsed": true
   },
   "outputs": [],
   "source": [
    "def learning_rate(x, ncount):\n",
    "    import math\n",
    "    if x == 0:\n",
    "        return 0.1\n",
    "    elif x == 1.0:\n",
    "        return 0.5\n",
    "    elif x == 2.0:\n",
    "        return 1.0\n",
    "    ##\n",
    "    elif x == 3:\n",
    "        return 0.3/ncount\n",
    "    elif x == 4:\n",
    "        return 1.0/ncount\n",
    "    elif x == 5:\n",
    "        return 2.0/ncount\n",
    "    ##\n",
    "    elif x == 6:\n",
    "        return 0.3/math.sqrt(ncount)\n",
    "    elif x == 7:\n",
    "        return 1.0/math.sqrt(ncount)\n",
    "    elif x == 8:\n",
    "        return 5.0/math.sqrt(ncount)\n",
    "    \n",
    "    else:\n",
    "        return 1\n",
    "\n",
    "    \n",
    "def str_eta(x):\n",
    "    import math\n",
    "    if x == 0:\n",
    "        return str(0.1)\n",
    "    elif x == 1.0:\n",
    "        return str(0.5)\n",
    "    elif x == 2.0:\n",
    "        return str(1.0)\n",
    "    ##\n",
    "    elif x == 3:\n",
    "        return '0.3/t'\n",
    "    elif x == 4:\n",
    "        return '1/t'\n",
    "    elif x == 5:\n",
    "        return '2/t'\n",
    "    ##\n",
    "    elif x == 6:\n",
    "        return '0.3/sqrt(t)'\n",
    "    elif x == 7:\n",
    "        return '1/sqrt(t)'\n",
    "    elif x == 8:\n",
    "        return '5/sqrt(t)'\n",
    "    \n",
    "    else:\n",
    "        return \"1\"    \n",
    "    \n",
    "def L2_regulation(label, mu, x, BETA, BETA0, eta, rambda):\n",
    "    import numpy as np\n",
    "    import math\n",
    "    new_BETA0 = 0\n",
    "    new_BETA = np.zeros(len(BETA))\n",
    "    pi = np.exp(mu)/ (1 + np.exp(mu))\n",
    "    new_BETA0 = BETA0 + eta*((label - pi) - rambda)\n",
    "    new_BETA = BETA + eta * ((label - pi)* x - rambda)\n",
    "    return (new_BETA0,new_BETA)\n",
    "    \n",
    "    \n",
    "def L2_online_update( BETA, BETA0, ncount):\n",
    "    import numpy as np\n",
    "    import math\n",
    "    import DAL\n",
    "    errors = np.zeros(9)\n",
    "    wishes_labelled = DAL.create(\"wishes-labelled\")\n",
    "    rambda = 0.001\n",
    "    \n",
    "    \n",
    "    for k in xrange(L):\n",
    "        temp = tweet_bunch[k]['text']\n",
    "        temp = re.sub(r'@[a-zA-Z0-9_]+', \"\", temp)\n",
    "        temp = re.sub(r'[^\\x00-\\x7F]', \"\", temp)\n",
    "        temp = re.sub(r'&[a-zA-Z0-9_]+', \"\", temp)\n",
    "        temp = re.sub(r'\\W', \" \", temp)\n",
    "        temp = re.sub(r'[0-9]', \"\", temp)\n",
    "        temp = temp.lower()\n",
    "        temp = re.sub(r\"\\s+\", \" \", temp) \n",
    "        temp = temp.split()\n",
    "    \n",
    "        x = np.zeros(M)\n",
    "            \n",
    "        for word in temp:\n",
    "            if word in mydict:\n",
    "                temp_index = mydict.index(word)\n",
    "                x[temp_index] = 1\n",
    "                \n",
    "        mu = np.dot(x,BETA) + BETA0  \n",
    "        pi  = np.exp(mu)/ (1 + np.exp(mu))\n",
    "        y_predict = np.zeros(9)\n",
    "        \n",
    "        for j in range(9):\n",
    "            if pi[j] > 0.5:\n",
    "                y_predict[j] = 1\n",
    "        \n",
    "        \n",
    "        if tweet_bunch[k]['label'] != '?':\n",
    "            y_origin = int(tweet_bunch[k]['label'])\n",
    "            for j in range(9):\n",
    "                \n",
    "                if y_predict[j] != y_origin:\n",
    "                    errors[j] = errors[j] + 1\n",
    "                else:\n",
    "                    pass \n",
    "            \n",
    "            ncount = ncount + 1\n",
    "            eta = [learning_rate(j, ncount) for j in range(9)]\n",
    "\n",
    "    \n",
    "            for j in range(9):\n",
    "                update_BETA = L2_regulation(y_origin, mu[j], x, BETA[:,j], BETA0[j], eta[j], rambda)\n",
    "            \n",
    "                BETA0[j] = update_BETA[0]\n",
    "                BETA[:,j] = update_BETA[1]\n",
    "            \n",
    "    \n",
    "                \n",
    "        else: ## for unlabeled data\n",
    "            for j in range(9):\n",
    "                unlabelled_dict[j].setdefault(tweet_bunch[k]['id'], str(int(y_predict[j])))\n",
    "     \n",
    "    \n",
    "    return [BETA, BETA0, ncount, errors]\n",
    "\n",
    "\n",
    "\n"
   ]
  },
  {
   "cell_type": "markdown",
   "metadata": {},
   "source": [
    "# Plot the error rate with every 1,000 tweets in order to examine our model"
   ]
  },
  {
   "cell_type": "code",
   "execution_count": 36,
   "metadata": {
    "collapsed": false
   },
   "outputs": [
    {
     "name": "stdout",
     "output_type": "stream",
     "text": [
      "{274752462236299264: '0', 274753110809931776: '0', 274806657198985218: '0', 274860358081069059: '0', 274790945382354944: '0', 274945019981488128: '0', 274825159364444160: '0', 274759789433720833: '0', 274806730431545346: '0', 274791674151043073: '0', 274847433215840256: '0', 274883884087386115: '0', 274794934186426368: '0', 274815304922718208: '0', 274978171961618432: '0', 274994805300424705: '0', 274837087851794432: '0', 274798678915559424: '0', 275006390819491845: '0', 274824867763847168: '0', 274827818075033601: '0', 274869822951653377: '0', 274811149143388160: '0', 274854890860343296: '0', 274977271083835392: '0', 274870857296384000: '0', 274970973390905345: '0', 274960638881701888: '0', 275076587140038657: '0', 274875595098292226: '0', 275095985850572800: '0', 274796766187102208: '0', 274985085613244416: '0', 274834560829763585: '0', 274802037760352257: '0', 275032118256607232: '0', 275092961891602433: '1', 274820742535852032: '0', 274974081529561089: '0', 275002745126273024: '0', 274808099955687424: '0', 274846856863965184: '0', 275042633901031424: '0', 274921606898397184: '0', 274760925230268417: '0', 274894267170832384: '0', 274909358461165568: '0', 274895484932476929: '0', 274957927222231040: '0', 275050590999040001: '0', 275064985351237632: '0', 274938298240233472: '0', 277651976186101762: '0', 274816352131371008: '0', 275065715348881408: '0', 274809784740483072: '0', 274913345948233728: '0', 275028946909806593: '0', 275093767948742656: '0', 274914540494417920: '0', 275039530875228160: '0', 274819487151316992: '0', 274930433848901632: '0', 274868091874312192: '0', 274893393434378240: '0', 275011025441546240: '0', 274796263201968129: '0', 274753480923693056: '0', 274801796281688064: '0', 275025059414962176: '0', 275007218049482753: '0', 274798471234584577: '0', 274789699665661952: '0', 275038735647776768: '0', 274913967737024512: '0', 274977603662778368: '0', 274902905658671105: '0', 274881148683956225: '0', 274855020120379394: '0', 275025256748560384: '0', 275054438769647616: '0', 274807146254835712: '0', 274916497804111873: '0', 274906217200099328: '0', 274811830617124864: '0', 274842820890738689: '0', 274947946620018690: '0', 274930889656512512: '0', 274873634756116480: '0', 274856612664070145: '0', 274831807789285376: '0', 274753417526788096: '0', 274900163867312130: '0', 275065438654828548: '0', 274976487105495041: '0', 274758235251159040: '0', 274787855698644992: '0', 274803389722931200: '0', 274836706157535232: '0', 274909851187032065: '0', 275088079121940480: '0', 275061475436003328: '0', 274886640651075585: '0', 274916274319003650: '0', 274952055867715584: '0', 275063339846090752: '0', 274926957521678337: '0', 274832041814679552: '0', 275091327333580800: '0', 274912061690114049: '0', 274809991171559424: '0', 274814344699707392: '0', 275069770301313025: '1', 274865325550477313: '0', 274790094777507840: '0', 274939985222836225: '0', 274856628518547456: '0', 274922800102379520: '0', 274761787696611329: '0', 274888923216486401: '0', 274972720045895682: '0', 275026723085623296: '0', 274840624212090882: '0', 274826535620452352: '0', 274791260320051201: '0', 275045932674998273: '0', 274988598288326656: '0', 274882690589802497: '0', 274910617880645632: '0', 275070330417061889: '0', 275013222988382209: '0', 274923110287945730: '0', 274789556870582272: '0', 274922466323877889: '0', 274819995622584320: '0', 274929163801083904: '0', 274846830649556993: '0', 274892109767647235: '0', 274821763391692800: '0', 274906120794030080: '0', 275085640239042560: '0', 275071932746059777: '0', 274878265561341952: '0', 275074466156003328: '0', 274918091564142592: '0', 275045522543357952: '0', 275061602355666945: '1', 274918546734186498: '0', 274867949393825792: '0', 274882960673611776: '0', 274858264917848064: '0', 274958097892663296: '0', 275024825674764289: '0', 274761630389264384: '0', 275026146159099905: '0', 274909784279502848: '0', 274929553581961216: '0', 274824247518568448: '0', 274816188960366592: '0', 274815412640813056: '0', 274915212589690881: '0', 274964595955871744: '0', 274892566661570560: '0', 274850005884469248: '0', 274928837203197952: '0', 274936447675535361: '0', 274804165530759169: '0', 274836652986335232: '0', 274846064178262016: '0', 274837270060756992: '0', 274963204906553344: '0', 275071654575603712: '0', 274857352119848960: '0', 274918119443685376: '0', 275014379953594369: '0', 275080182413537282: '0', 274925617894543360: '0', 274862967063969792: '0', 275019994222456832: '0', 274845099018563584: '0', 274808474855157762: '0', 274796195958890496: '0', 275028196121006080: '0', 274895860557553664: '0', 274850187116167168: '0', 274811634306920449: '0', 274876440351211522: '0', 275038409460953088: '1', 274896012873719808: '0', 274895727241605120: '0', 274876702889492481: '0', 274936604756422659: '0', 274899423790768128: '0', 274932996614791168: '0', 274979074131247104: '0', 274794198606168064: '0', 274901099406839809: '0', 274822620770340864: '0', 274883483560730624: '0', 274809765123727361: '0', 274928243419779072: '0', 274791884612833281: '0', 274912732350926848: '0', 280914226091028480: '0', 274802531169878016: '0', 274891623089963009: '0', 274919531439341569: '0', 274961596491649025: '0', 274914659209994240: '0', 275037840121942016: '0', 274916161915875329: '0', 275020324683268096: '0', 274859093636808704: '0', 274841767071846401: '0', 274796855546757121: '0', 275036691327242241: '0', 274936038454075392: '0', 274891688680517632: '0', 275021333128155136: '0', 274844152016039936: '0', 274925147260071937: '0', 274786495565533184: '0', 274918884711202816: '0', 274907945286897665: '0', 275089413107757058: '0', 275479192592842752: '0', 274791674897657856: '0', 274945179507630080: '0', 274920159335038978: '0', 274903055240138752: '0', 274974186005463040: '0', 274932406035816448: '0', 275040562581749762: '0', 274920018666463232: '0', 275026731923034112: '0', 275059388459388928: '0', 274801252125257728: '0', 274902499993993219: '0', 274824518357381120: '0', 275080370045722625: '0', 274942519521980416: '0', 274809992991891457: '0', 274958420375912448: '0', 274849407592181760: '0', 274928464593833985: '0', 275043309704060928: '0', 275046479574470656: '0', 275039587582218241: '0', 274842232413114368: '0', 274901740896256000: '0', 274798420655493120: '0', 275076618966417408: '0', 274919757478756353: '0', 274910774982496256: '0', 275012418038538240: '0', 274860133597732864: '0', 275087640821370880: '0', 274804758185930753: '0', 275082380547608576: '0', 275078091880161281: '0', 274868399761391616: '0', 274831747064156160: '0', 274870359411527681: '0', 274828271395426305: '0', 275017439308304384: '0', 274912434182033409: '0', 275001285374263296: '0', 274827249277104128: '0', 274927950183419904: '0', 275016315398402048: '0', 274890826155442176: '0', 274804521232891905: '0', 274934453569196032: '0', 274935831586807809: '0', 274835170102738944: '0', 275034323890094080: '0', 274979325395226624: '0', 274874970147016706: '0', 274913386901405696: '0', 274809555345612800: '0', 275064666743517185: '0', 274887260330160129: '0', 274789555725545472: '0', 274805239155154944: '0', 274807880140603393: '0', 274947916488134659: '0', 278014539155521537: '0', 274880771892838400: '0', 275005041037938688: '0', 274860460027822080: '0', 274942224326856704: '0', 274923602225287169: '0', 275068778096779266: '1', 274835491260612608: '0', 275023830005719042: '0', 274814015300050944: '0', 274973864830832640: '0', 275018255284973569: '1', 274860866065813504: '0', 274860269593845760: '0', 274887835092398080: '0', 274870906126467072: '0', 274816207901818881: '0', 274908766225432577: '0', 275087307386781696: '0', 275032259956977664: '0', 274913527003750400: '0', 275025287341830144: '0', 274795341335912448: '0', 274923880852910081: '0', 275094685977026560: '0', 274885423807987712: '0', 274981601279082496: '0', 274872214237614081: '0', 274878591148363776: '0', 274886211984842753: '0', 274816739810893824: '0', 274950005431889920: '0', 279464385091604480: '0', 274981290669899777: '0', 274757763958206464: '0', 274791503291904000: '0', 274761301253836801: '0', 274794760567410688: '0', 274797037101387776: '0', 274925411077591040: '0', 274956723519889409: '0', 274825281171230720: '0', 275060147477426176: '0', 274891394617860098: '0', 274951155220615169: '0', 274852208749711360: '0', 274888251037335553: '0', 274883137467719680: '0', 275079028090732544: '0', 274849202801094657: '0', 275041274661330945: '1', 275080929465229312: '0', 275069269769871360: '0', 274993327370293248: '0', 275091419008475136: '0', 281640044576534528: '0', 274913104830275584: '0', 274849261143863296: '0', 275020982568222720: '0', 274896583634595840: '0', 274993075162607616: '0', 274972055957565442: '0', 275083261477273600: '0', 275083513039032320: '0', 274923490656796672: '0', 274802251619524608: '0', 274816027219615744: '0', 274808506677350400: '0', 274895686082908161: '0', 274888807566942208: '0', 274888226131570689: '0', 274937194676903936: '0', 274874817101045761: '0', 274902067724832768: '0', 274804884581261312: '0', 274889762073104384: '0', 274950705939349504: '0', 274809011617034240: '0', 274816486248439808: '0', 274895878140067841: '0', 275087826406739970: '0', 274830967804416000: '0', 274914919542038528: '0', 275008098740080640: '0', 274929266737688577: '0', 274856507378655232: '0', 274954844891127808: '0', 275091829664391168: '0', 274896108617072640: '0', 274810882171760640: '0', 274878476773912577: '0', 274934905547403264: '0', 275059703954935808: '0', 274911115744509952: '0', 274824608149041152: '0', 275054341507915778: '0', 274890919453528064: '0', 274944182353797121: '0', 274852513902104577: '0', 274904244069478400: '0', 274803750072352768: '0', 274896740581273602: '0', 274904581723545600: '0', 274815337319505920: '0', 274822094586515456: '0', 275085053485264897: '0', 274856387715141633: '0', 274873833100570624: '0', 278737971073675264: '1', 274971404942839808: '0', 275093218419429376: '0', 274904496851800065: '0', 274807277372977152: '0', 274895548182560768: '0', 274913884907913217: '0', 274916781271961601: '0', 274758008691638272: '0', 275010029948661760: '0', 275090590226583552: '0', 274818086991982592: '0', 274922728048439296: '0', 274853811628163072: '0', 275063676350910465: '0', 274896059367563264: '0', 275015501284007937: '0', 274922810965647360: '0', 274950068832964608: '0', 274854355709087744: '0', 275019649811374081: '0', 275025438319972352: '0', 274963093468090368: '0', 274893325578928128: '0', 274904944090443776: '0', 274835899727110144: '0', 275047652826161152: '0', 274904293931380737: '0', 275077687226269697: '0', 274921609146540032: '0', 274797572810473472: '0', 275024503241863168: '0', 274817383552651265: '0', 275074735518392321: '0', 274936387235631104: '0', 275082378806976512: '0', 275029675787554817: '1', 275022098601242624: '0', 274827313374437376: '0', 274894676413255680: '0', 275072064946319362: '0', 274949833381539840: '0', 274969629829517312: '0', 274977290822234113: '0', 274936263155523584: '0', 275077197075734528: '0', 274947731410259968: '0', 274838249833373696: '0', 274914018966253569: '0', 274891556933210114: '0', 275027212225359872: '0', 275083635395289088: '0', 274895690088472576: '0', 274814299850027008: '0', 274850348080955392: '0', 274791166535421952: '0', 277291056108810240: '0', 274900762239315968: '0', 274880871604043776: '0', 274917011707019267: '0', 274924303458390017: '0', 274827423672053760: '0', 275016893574823936: '0', 274754699847155712: '0', 274952462782328832: '0', 274809077966721024: '0', 274904341616410624: '0', 275021996746760193: '0', 275072746931777537: '0', 274952587156008960: '0', 274903533118181376: '0', 274904014091583489: '0', 275078454528053250: '0', 278378184641220608: '0', 275009308620636160: '0', 274919259732324353: '0', 274830602493124608: '0', 275014998428880896: '0', 274937537317990401: '0', 275035115237814272: '0', 274864971790286848: '0', 274836311230259200: '0', 274916069557276673: '0', 274862842916769792: '0', 275078201607340032: '0', 274817167529242624: '0', 274794240008138752: '0', 274902364610236416: '0', 274945076092862464: '0', 274795303369052160: '0', 275113979167248385: '0', 275005096708952064: '0', 274940732110942208: '0', 275041105991585794: '0', 280551752489656320: '0', 274880775302819840: '0', 274807693762502656: '0', 274898669407457280: '0', 275004575268876289: '0', 274912532022562816: '0', 275045849246072832: '0', 274948275654778880: '0', 274907428540268545: '0', 274798686574358528: '0', 274798221715464192: '0', 274908036571742208: '0', 274918064582168576: '0', 274878731129081856: '0', 275044179611099136: '0', 274794150581387264: '0', 274788163736719361: '0', 274918687461490688: '0', 274886431590203392: '0', 275021129758957568: '0', 274816666372820992: '0', 274837402957250560: '0', 274839963487592449: '0', 274831296679784448: '0', 274805974555033601: '0', 274907815544516608: '0', 274795916161077248: '0', 274793108036804608: '0', 274960305820430336: '0', 274854072887177217: '0', 275096385903271937: '0', 275084780553506816: '0', 274834898701910016: '0', 274970988742057984: '0', 275056478312886272: '0', 275076708523188226: '0', 274836202325172224: '0', 274913526517207040: '0', 274790616112721920: '0', 274859792487567360: '0', 274924342163410944: '0', 274924002970042368: '0', 274761143006928897: '1', 275031133505335296: '0', 276562602392449024: '0', 275034676689793024: '0', 274755633994162176: '0', 274755926328750081: '0', 275048580920770560: '0', 274942470075346944: '0', 275082040628637696: '0', 274874075707482112: '0', 274897186049888256: '0', 274833533032345601: '0', 274757282913468417: '0', 275027309629698048: '0', 274810486732775424: '0', 274935422247895040: '0', 274816562769309696: '0', 275049342669295616: '0', 274898724625465345: '0', 274852969235763200: '0', 274816780000698368: '0', 275081315039182848: '0', 274830593794138113: '0', 274948272295129088: '0', 274930681459642368: '0', 275051880579751937: '0', 274791435360944128: '0', 275069991265652736: '0', 274921543816069120: '0', 274793620505239552: '0', 274884164002664448: '0', 274949717899767808: '0', 275032916441063425: '0', 274892298444214272: '0', 276200487253065728: '0', 274901300238503937: '0', 274942307957100544: '0', 274859792588222464: '0', 274942618113294336: '0', 274910351827550208: '0', 274888871249076224: '0', 274924309426872320: '0', 274897642239172608: '0', 274860031780978688: '0', 274943425399386112: '0', 274798854606557185: '0', 280188089832452096: '0', 274985643191447552: '0', 274757524647976960: '0', 274803036684181505: '0', 274857072951193600: '0', 274935266169479168: '0', 275021929407193090: '0', 274861312851447808: '0', 274848231291224064: '0', 274956156068306945: '0', 274977435152429058: '0', 274939470552375296: '0', 274935258108006400: '0', 274901168390537216: '0', 274885905192460288: '0', 274797178696912897: '0', 274961945310932993: '0', 275007145697746944: '0', 274909397417861120: '0', 274973392707387392: '0', 274760711597592576: '0', 274803928590331904: '0', 274963609476554752: '0', 275041790707511296: '0', 275051217388978176: '0', 274860943647834112: '0', 275013502995922945: '0', 274757032811315200: '0', 274759993650200576: '0', 275090723118927873: '0', 274972952808812545: '0', 274942052352016384: '0', 275079299617402880: '0', 274928461771046914: '0', 274838027224879104: '0', 274760549642932224: '0', 274898736898002944: '0', 275024749032271872: '0', 274822498602860544: '0', 274909611897810944: '0', 274760248617754624: '0', 275002984994312192: '0', 275006776779362304: '0', 274889343787732992: '0', 274906754356240384: '0', 275001659812352002: '0', 274917636691853312: '0', 274921148570013697: '0', 274898573257211904: '0', 274912129235173376: '0', 274853640471212032: '0', 274906880499908609: '0', 275037770412617728: '1', 274791502658539520: '0', 275010335956680704: '0', 275078163879567361: '0', 274786596316913665: '0', 274966975946584064: '0', 274984827520962560: '0', 275038775783071744: '0', 274808409826664448: '0', 275010540823269376: '0', 274896142255403009: '0', 274871435175006208: '0', 274910462943035393: '0', 274943085904015360: '0', 274801613833650177: '0', 274895922230603776: '0', 275841483276431360: '0', 274893513253081090: '0', 275076653925945346: '0', 274980081380765697: '0', 275079071493398528: '0', 274879163700215808: '0', 275078390799822848: '0', 274944681056546816: '0', 274757299975897088: '0', 274761626291404800: '0', 274942619631636481: '0', 274947885680967681: '0', 274888463826948096: '0', 275004736934129665: '0', 274921851015266306: '0', 274855288727805952: '0', 274909288399511552: '0', 275086417850417153: '0', 274848254460579840: '0', 275043153348804608: '0', 274910620074270721: '0', 275001736521981952: '0', 274898113746059265: '0', 274992078092656641: '0', 274806255686647809: '0', 275004036992868355: '0', 275020056394620929: '0', 274896322367205376: '0', 275047430247051265: '0', 274758337600552960: '0', 275084449505501185: '0', 274806769430167552: '0', 274884477539454977: '0', 274847582910570496: '0', 275092619657371648: '0', 274990462404788224: '0', 274860705516249088: '0', 274940574585483265: '0', 274841626579464192: '0', 274950951226445824: '0', 275043850349854721: '0', 274846672658501632: '0', 274822330465787905: '0', 274981936538202112: '0', 274823125370277888: '0', 275079920034672640: '0', 274905090475835392: '0', 274873011373481984: '0', 275090586367836160: '0', 274969137846038529: '0', 274949101794254848: '0', 274947325829455874: '0', 274921938181308416: '0', 274877274107547648: '0', 274758679373426688: '0', 275047476489244672: '0', 274804019266994177: '0', 274831697189666816: '0', 279827587017080834: '0', 274832552844480512: '0', 274883980011134976: '0', 274985436970106880: '0', 275085314840735744: '0', 274882571693867008: '0', 274896128158355457: '0', 274974024939995138: '0', 274974972382945281: '0', 274756600059817984: '0', 274986061229326336: '0', 274864265163329536: '0', 274786848516222976: '0', 274904290303303681: '0', 275009844363292672: '0', 274908359143063553: '0', 275077968047521794: '0', 274891619512225794: '0', 274927175432560640: '0', 275082041706561537: '0', 274786871224197120: '0', 275025268157067264: '0', 275081559500017664: '0', 274816176486481920: '0', 274880627671695360: '0', 274794171250909184: '0', 274805456424275968: '0', 274822085409394688: '0', 274980108161409024: '0', 274946867106836480: '0', 275080987623440384: '0', 275029035296362496: '0', 274908645056196608: '0', 274814009033756672: '0', 275035631225298944: '0', 274906225760673792: '0', 274916138834620416: '0', 274920937701388288: '0', 275015917459611648: '0', 275073226596577280: '0', 274909383777984512: '0', 274786984168394752: '0', 274948531406651394: '0', 274841587043950592: '0', 275024107882549248: '0', 274919329840115712: '0', 274910622683107328: '0', 275040854345932800: '1', 274804717601828864: '0', 274878191879995393: '0', 274789359159496704: '0', 274903346937212928: '0', 274963411794792448: '0', 274817928413724672: '0', 274813453930201088: '0', 275004464484732929: '0', 274920635795394560: '0', 275069320978128897: '1', 279098782094872576: '1', 275020130612805634: '0', 274901448842694656: '0', 275042865762164736: '0', 275010087788093440: '0', 274872779805970432: '0', 275069884113772545: '0', 274896273449050112: '0', 274936946541862912: '0', 274899276700712961: '0', 274877694339076096: '0', 275089378508947457: '0', 274793965306404864: '0', 274975528379883520: '0', 274756471391137792: '0', 274809255217987584: '0', 274990596333133824: '0', 274869036934918144: '0', 274904187890962432: '0', 274823520511463424: '0', 274851585463578624: '0', 275090014713552897: '0', 274808420694122496: '0', 274952531313045504: '0', 275092477814386688: '0', 274928636866482176: '0', 274809612362981376: '0', 274906053156691968: '0', 274930824342822913: '0', 274826642944315392: '0', 275085761550880768: '0', 274901516928811009: '0', 274930767174434816: '0', 275014649295024128: '0', 274836468822847488: '0', 275055224983535616: '1', 275013652602568705: '0', 274833545564921856: '0', 274820969233784832: '0', 274863793371238400: '0', 274808675581968384: '0', 274944603201863681: '0', 274894505101103104: '0', 274995987964108800: '0', 274983263641145344: '0', 274850923468161025: '0'}\n",
      "learning rate is 0.1\n"
     ]
    },
    {
     "name": "stderr",
     "output_type": "stream",
     "text": [
      "Exception RuntimeError: 'generator ignored GeneratorExit' in <generator object iter at 0x49b2a00> ignored\n",
      "Exception RuntimeError: 'generator ignored GeneratorExit' in <generator object iter at 0x49b2a00> ignored\n",
      "Exception RuntimeError: 'generator ignored GeneratorExit' in <generator object iter at 0x49b2a00> ignored\n",
      "Exception RuntimeError: 'generator ignored GeneratorExit' in <generator object iter at 0x49b2a00> ignored\n",
      "Exception RuntimeError: 'generator ignored GeneratorExit' in <generator object iter at 0x49b2a00> ignored\n",
      "Exception RuntimeError: 'generator ignored GeneratorExit' in <generator object iter at 0x49b2a00> ignored\n",
      "Exception RuntimeError: 'generator ignored GeneratorExit' in <generator object iter at 0x49b2a00> ignored\n",
      "Exception RuntimeError: 'generator ignored GeneratorExit' in <generator object iter at 0x49b2a00> ignored\n",
      "Exception RuntimeError: 'generator ignored GeneratorExit' in <generator object iter at 0x49b2a00> ignored\n",
      "Exception RuntimeError: 'generator ignored GeneratorExit' in <generator object iter at 0x49b2a00> ignored\n",
      "Exception RuntimeError: 'generator ignored GeneratorExit' in <generator object iter at 0x49b2a00> ignored\n",
      "Exception RuntimeError: 'generator ignored GeneratorExit' in <generator object iter at 0x49b2a00> ignored\n",
      "Exception RuntimeError: 'generator ignored GeneratorExit' in <generator object iter at 0x49b2a00> ignored\n",
      "Exception RuntimeError: 'generator ignored GeneratorExit' in <generator object iter at 0x49b2a00> ignored\n",
      "Exception RuntimeError: 'generator ignored GeneratorExit' in <generator object iter at 0x49b2a00> ignored\n",
      "Exception RuntimeError: 'generator ignored GeneratorExit' in <generator object iter at 0x49b2a00> ignored\n",
      "Exception RuntimeError: 'generator ignored GeneratorExit' in <generator object iter at 0x49b2a00> ignored\n",
      "Exception RuntimeError: 'generator ignored GeneratorExit' in <generator object iter at 0x49b2a00> ignored\n"
     ]
    },
    {
     "data": {
      "image/png": "[encoded data removed]",
      "text/plain": [
       "<matplotlib.figure.Figure at 0x2cc1f50>"
      ]
     },
     "metadata": {},
     "output_type": "display_data"
    },
    {
     "name": "stdout",
     "output_type": "stream",
     "text": [
      "The coressponding error rate for unlabelled tweets is "
     ]
    },
    {
     "ename": "ValueError",
     "evalue": "Can only evaluate performance on the cluster.",
     "output_type": "error",
     "traceback": [
      "\u001b[1;31m---------------------------------------------------------------------------\u001b[0m\n\u001b[1;31mValueError\u001b[0m                                Traceback (most recent call last)",
      "\u001b[1;32m<ipython-input-36-63aa7cdfbf03>\u001b[0m in \u001b[0;36m<module>\u001b[1;34m()\u001b[0m\n\u001b[0;32m     60\u001b[0m     \u001b[0mplt\u001b[0m\u001b[1;33m.\u001b[0m\u001b[0mplot\u001b[0m\u001b[1;33m(\u001b[0m\u001b[0mrange\u001b[0m\u001b[1;33m(\u001b[0m\u001b[0mint\u001b[0m\u001b[1;33m(\u001b[0m\u001b[0mncount\u001b[0m \u001b[1;33m/\u001b[0m \u001b[1;36m1000\u001b[0m\u001b[1;33m)\u001b[0m\u001b[1;33m)\u001b[0m\u001b[1;33m,\u001b[0m \u001b[0merror_rate_temp\u001b[0m\u001b[1;33m[\u001b[0m\u001b[0mj\u001b[0m\u001b[1;33m]\u001b[0m\u001b[1;33m)\u001b[0m\u001b[1;33m\u001b[0m\u001b[0m\n\u001b[0;32m     61\u001b[0m     \u001b[0mplt\u001b[0m\u001b[1;33m.\u001b[0m\u001b[0mshow\u001b[0m\u001b[1;33m(\u001b[0m\u001b[1;33m)\u001b[0m\u001b[1;33m\u001b[0m\u001b[0m\n\u001b[1;32m---> 62\u001b[1;33m     \u001b[1;32mprint\u001b[0m \u001b[1;34m'The coressponding error rate for unlabelled tweets is '\u001b[0m\u001b[1;33m,\u001b[0m\u001b[1;33m(\u001b[0m\u001b[0mwishes_labelled\u001b[0m\u001b[1;33m.\u001b[0m\u001b[0meval\u001b[0m\u001b[1;33m(\u001b[0m\u001b[0munlabelled_dict\u001b[0m\u001b[1;33m[\u001b[0m\u001b[0mj\u001b[0m\u001b[1;33m]\u001b[0m\u001b[1;33m)\u001b[0m\u001b[1;33m)\u001b[0m\u001b[1;33m\u001b[0m\u001b[0m\n\u001b[0m\u001b[0;32m     63\u001b[0m \u001b[1;33m\u001b[0m\u001b[0m\n\u001b[0;32m     64\u001b[0m \u001b[1;33m\u001b[0m\u001b[0m\n",
      "\u001b[1;32m/home/edyue/local/lib/python2.7/site-packages/DAL/datasets/wisheslabelled.pyc\u001b[0m in \u001b[0;36meval\u001b[1;34m(self, values)\u001b[0m\n\u001b[0;32m     34\u001b[0m \u001b[1;33m\u001b[0m\u001b[0m\n\u001b[0;32m     35\u001b[0m     \u001b[1;32mif\u001b[0m \u001b[0mconfig\u001b[0m\u001b[1;33m.\u001b[0m\u001b[0mlocal\u001b[0m\u001b[1;33m(\u001b[0m\u001b[1;33m)\u001b[0m\u001b[1;33m:\u001b[0m\u001b[1;33m\u001b[0m\u001b[0m\n\u001b[1;32m---> 36\u001b[1;33m       \u001b[1;32mraise\u001b[0m \u001b[0mValueError\u001b[0m\u001b[1;33m(\u001b[0m\u001b[1;34m\"Can only evaluate performance on the cluster.\"\u001b[0m\u001b[1;33m)\u001b[0m\u001b[1;33m\u001b[0m\u001b[0m\n\u001b[0m\u001b[0;32m     37\u001b[0m \u001b[1;33m\u001b[0m\u001b[0m\n\u001b[0;32m     38\u001b[0m     \u001b[0moracle\u001b[0m \u001b[1;33m=\u001b[0m \u001b[0mjson\u001b[0m\u001b[1;33m.\u001b[0m\u001b[0mload\u001b[0m\u001b[1;33m(\u001b[0m\u001b[0mself\u001b[0m\u001b[1;33m.\u001b[0m\u001b[0mcache\u001b[0m\u001b[1;33m.\u001b[0m\u001b[0mdirecthandle\u001b[0m\u001b[1;33m(\u001b[0m\u001b[0mself\u001b[0m\u001b[1;33m.\u001b[0m\u001b[0mbucketname\u001b[0m\u001b[1;33m,\u001b[0m \u001b[1;34m\"oracle.json\"\u001b[0m\u001b[1;33m)\u001b[0m\u001b[1;33m)\u001b[0m\u001b[1;33m\u001b[0m\u001b[0m\n",
      "\u001b[1;31mValueError\u001b[0m: Can only evaluate performance on the cluster."
     ]
    }
   ],
   "source": [
    "import numpy as np\n",
    "import matplotlib.pyplot as plt\n",
    "\n",
    "\n",
    "\n",
    "M = len(mydict)\n",
    "BETA = np.zeros((M,9))\n",
    "BETA0 = np.zeros(9)\n",
    "unlabelled_dict = [dict() for i in range(9)]\n",
    "\n",
    "    \n",
    "error_rate_temp = [ [] for i in range(9) ]\n",
    "total_errors = np.zeros(9)\n",
    "ncount = 0\n",
    "temp_ncount = 0\n",
    "tweet_bunch = []\n",
    "\n",
    "\n",
    "for wishes in test_wishes: \n",
    "    for tweet in wishes_labelled.iter(wishes):\n",
    "        tweet_bunch.append(tweet)\n",
    "        if tweet['label'] != \"?\":\n",
    "            ncount += 1\n",
    "            \n",
    "            \n",
    "            if ncount%1000 == 0: # for every 1000 labelled tweet\n",
    "                L = len(tweet_bunch) \n",
    "                result = L2_online_update(BETA, BETA0, temp_ncount)\n",
    "                BETA = result[0]\n",
    "                BETA0 = result[1]\n",
    "                temp_ncount = result[2]\n",
    "                total_errors = total_errors + result[3]\n",
    "            \n",
    "            \n",
    "                for j in range(9):\n",
    "                    error_rate_temp[j].append(total_errors[j] / temp_ncount)\n",
    "                \n",
    "                tweet_bunch = []            \n",
    "        else:\n",
    "            pass\n",
    "\n",
    "\n",
    "        \n",
    "L = len(tweet_bunch)\n",
    "result = L2_online_update(BETA, BETA0, temp_ncount)\n",
    "BETA = result[0]\n",
    "BETA0 = result[1]\n",
    "temp_ncount = result[2]    \n",
    "total_errors = total_errors + result[3]\n",
    "        \n",
    "\n",
    "for j in range(9):\n",
    "    eta = str_eta(j)\n",
    "    print \"learning rate is \" + eta \n",
    "    fig = plt.figure(j)\n",
    "    plt.plot(range(int(ncount / 1000)), error_rate_temp[j]) \n",
    "    plt.show()\n",
    "    print 'The coressponding error rate for unlabelled tweets is ',(wishes_labelled.eval(unlabelled_dict[j]))\n",
    "\n",
    "    "
   ]
  }
 ],
 "metadata": {
  "kernelspec": {
   "display_name": "Python 2",
   "language": "python",
   "name": "python2"
  },
  "language_info": {
   "codemirror_mode": {
    "name": "ipython",
    "version": 2
   },
   "file_extension": ".py",
   "mimetype": "text/x-python",
   "name": "python",
   "nbconvert_exporter": "python",
   "pygments_lexer": "ipython2",
   "version": "2.7.9"
  }
 },
 "nbformat": 4,
 "nbformat_minor": 0
}
